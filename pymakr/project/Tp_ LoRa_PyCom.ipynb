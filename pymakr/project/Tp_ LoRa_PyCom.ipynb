{
 "cells": [
  {
   "cell_type": "markdown",
   "metadata": {},
   "source": [
    "# Tp LoRa\n",
    "\n",
    "L'objectif de ce TP est d'apprendre à utiliser la technologie LoRa avec la carte LoPy4 de Pycom. Nous allons configurer et tester deux scénarios :\n",
    "\n",
    "Envoi de données vers The Things Network (TTN).\n",
    "Communication directe entre deux cartes LoPy4.\n",
    "\n",
    "Matériel requis :\n",
    "- 2 cartes LoPy4 de Pycom\n",
    "- 2 antennes LoRa compatibles\n",
    "- 2 batteries ou câbles USB pour l'alimentation\n",
    "- 1 ordinateur avec Visual Studio Code et l'extension PyMakr installée\n"
   ]
  },
  {
   "cell_type": "markdown",
   "metadata": {},
   "source": [
    "## envoi des données vers Tne Things Network\n",
    "\n",
    "### Configuration de la passerelle\n",
    "\n",
    "(partie a réaliser uniquement si la passerelle n'est pas deja configurée)\n",
    "\n",
    "Pour configurer la passerelle, il faut etre sur le même réseau et se rendre a l'adresse 147.127.245.250\n",
    "- Username : admin\n",
    "- Password : centrale2022\n",
    "\n",
    "### Connexion avec The Things Network\n",
    "\n",
    "Connectez votre carte LoPy4 à votre ordinateur via USB.\n",
    "\n",
    "Accedez au site https://eu1.cloud.thethings.network/console/\n",
    "- id :  duiot\n",
    "- mdp : duiot2020\n",
    "\n",
    "<img src=\"../img/ttn_cnx.png\" alt=\"Drawing\" style=\"width: 500px;\"/>\n",
    "\n",
    "ici, on torouve deux catégories, applications qui permettent de gérer les différents projets et les appareils qui y sont connectés et gateways qui sert a gérer les passerelles connectées au compte\n",
    "\n",
    "### code du LoPy4\n",
    "\n",
    "Le code suivant permet de connaitre le statut de la connexion avec the things network"
   ]
  },
  {
   "cell_type": "code",
   "execution_count": 2,
   "metadata": {},
   "outputs": [
    {
     "ename": "ImportError",
     "evalue": "cannot import name 'LoRa' from 'network' (/home/local/.local/lib/python3.10/site-packages/network.py)",
     "output_type": "error",
     "traceback": [
      "\u001b[0;31m---------------------------------------------------------------------------\u001b[0m",
      "\u001b[0;31mImportError\u001b[0m                               Traceback (most recent call last)",
      "\u001b[0;32m/tmp/ipykernel_70280/1194235874.py\u001b[0m in \u001b[0;36m<module>\u001b[0;34m\u001b[0m\n\u001b[0;32m----> 1\u001b[0;31m \u001b[0;32mfrom\u001b[0m \u001b[0mnetwork\u001b[0m \u001b[0;32mimport\u001b[0m \u001b[0mLoRa\u001b[0m\u001b[0;34m\u001b[0m\u001b[0;34m\u001b[0m\u001b[0m\n\u001b[0m\u001b[1;32m      2\u001b[0m \u001b[0;32mimport\u001b[0m \u001b[0msocket\u001b[0m\u001b[0;34m\u001b[0m\u001b[0;34m\u001b[0m\u001b[0m\n\u001b[1;32m      3\u001b[0m \u001b[0;32mimport\u001b[0m \u001b[0mtime\u001b[0m\u001b[0;34m\u001b[0m\u001b[0;34m\u001b[0m\u001b[0m\n\u001b[1;32m      4\u001b[0m \u001b[0;32mimport\u001b[0m \u001b[0mubinascii\u001b[0m\u001b[0;34m\u001b[0m\u001b[0;34m\u001b[0m\u001b[0m\n\u001b[1;32m      5\u001b[0m \u001b[0;32mimport\u001b[0m \u001b[0mpycom\u001b[0m\u001b[0;34m\u001b[0m\u001b[0;34m\u001b[0m\u001b[0m\n",
      "\u001b[0;31mImportError\u001b[0m: cannot import name 'LoRa' from 'network' (/home/local/.local/lib/python3.10/site-packages/network.py)"
     ]
    }
   ],
   "source": [
    "from network import LoRa\n",
    "import socket\n",
    "import time\n",
    "import ubinascii\n",
    "import pycom\n",
    "\n",
    "pycom.heartbeat(False)\n",
    "\n",
    "# Initialise LoRa in LORAWAN mode.\n",
    "# Please pick the region that matches where you are using the device:\n",
    "# Asia = LoRa.AS923\n",
    "# Australia = LoRa.AU915\n",
    "# Europe = LoRa.EU868\n",
    "# United States = LoRa.US915\n",
    "lora = LoRa(mode=LoRa.LORAWAN, region=LoRa.EU868)\n",
    "\n",
    "# create an OTAA authentication parameters, change them to the provided credentials\n",
    "app_eui = ubinascii.unhexlify('70B3D57ED0038811')\n",
    "app_key = ubinascii.unhexlify('583FE2F370E3F43BCFE06291DCD155A1')\n",
    "#uncomment to use LoRaWAN application provided dev_eui\n",
    "dev_eui = ubinascii.unhexlify('70b3d5499e370b3d')\n",
    "\n",
    "# join a network using OTAA (Over the Air Activation)\n",
    "#uncomment below to use LoRaWAN application provided dev_eui\n",
    "#lora.join(activation=LoRa.OTAA, auth=(app_eui, app_key), timeout=0)\n",
    "lora.join(activation=LoRa.OTAA, auth=(dev_eui, app_eui, app_key), timeout=0)\n",
    "\n",
    "# wait until the module has joined the network\n",
    "while not lora.has_joined():\n",
    "    pycom.rgbled(0x101000)\n",
    "    time.sleep(0.3)\n",
    "    pycom.rgbled(0x000000)\n",
    "    time.sleep(0.3)\n",
    "    \n",
    "\n",
    "print('Joined')\n",
    "pycom.rgbled(0x001000)\n",
    "# create a LoRa socket\n",
    "s = socket.socket(socket.AF_LORA, socket.SOCK_RAW)\n",
    "\n",
    "# set the LoRaWAN data rate\n",
    "s.setsockopt(socket.SOL_LORA, socket.SO_DR, 5)\n",
    "\n",
    "# make the socket blocking\n",
    "# (waits for the data to be sent and for the 2 receive windows to expire)\n",
    "\n",
    "\n",
    "# send some data\n",
    "while 1 :\n",
    "    s.setblocking(True)\n",
    "    \n",
    "    s.send(bytes(\"1\",\"utf-8\"))\n",
    "\n",
    "    # make the socket non-blocking\n",
    "    # (because if there's no data received it will block forever...)\n",
    "    s.setblocking(False)\n",
    "\n",
    "    # get any data received (if any...)\n",
    "    data = s.recv(64)\n",
    "    if data :\n",
    "        print(data)\n",
    "    time.sleep(1)\n",
    "    "
   ]
  },
  {
   "cell_type": "code",
   "execution_count": null,
   "metadata": {},
   "outputs": [],
   "source": []
  },
  {
   "cell_type": "code",
   "execution_count": null,
   "metadata": {},
   "outputs": [],
   "source": []
  },
  {
   "cell_type": "code",
   "execution_count": null,
   "metadata": {},
   "outputs": [],
   "source": []
  }
 ],
 "metadata": {
  "kernelspec": {
   "display_name": "Python 3",
   "language": "python",
   "name": "python3"
  },
  "language_info": {
   "codemirror_mode": {
    "name": "ipython",
    "version": 3
   },
   "file_extension": ".py",
   "mimetype": "text/x-python",
   "name": "python",
   "nbconvert_exporter": "python",
   "pygments_lexer": "ipython3",
   "version": "3.10.12"
  }
 },
 "nbformat": 4,
 "nbformat_minor": 2
}
